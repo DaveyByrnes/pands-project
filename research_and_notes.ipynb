{
 "cells": [
  {
   "cell_type": "markdown",
   "id": "f90933ba",
   "metadata": {},
   "source": [
    "# **Research and Notes of my Iris Project**"
   ]
  },
  {
   "cell_type": "markdown",
   "id": "287a5aaf",
   "metadata": {},
   "source": [
    "## **Code Snags and Issues**"
   ]
  },
  {
   "cell_type": "markdown",
   "id": "6ec5014e",
   "metadata": {},
   "source": [
    "My first snag came with working on outputting the summary into a single text file. It was something I didn't have much experience doing. I consulted the internet, finding [this](https://www.w3schools.com/python/python_file_write.asp) article from W3Schools, however it didn't provide everything I felt was necessary - getting the dataframe to print cleanly. I consulted ChatGPT, and you can see the query and aid it provided [here](https://chatgpt.com/share/681a75f8-f5a4-8010-b466-27cac545d09c)."
   ]
  },
  {
   "cell_type": "markdown",
   "id": "8a2dde73",
   "metadata": {},
   "source": [
    "That didn't fix everything however. The project states that it must contain every variable within a single text file. I created a function - `class_count` - and did the same as I did with the rest of the section."
   ]
  }
 ],
 "metadata": {
  "language_info": {
   "name": "python"
  }
 },
 "nbformat": 4,
 "nbformat_minor": 5
}
